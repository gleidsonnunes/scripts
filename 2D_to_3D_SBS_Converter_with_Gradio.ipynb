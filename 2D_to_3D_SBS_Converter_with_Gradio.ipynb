{
  "cells": [
    {
      "cell_type": "markdown",
      "metadata": {
        "id": "view-in-github",
        "colab_type": "text"
      },
      "source": [
        "<a href=\"https://colab.research.google.com/github/gleidsonnunes/scripts/blob/master/2D_to_3D_SBS_Converter_with_Gradio.ipynb\" target=\"_parent\"><img src=\"https://colab.research.google.com/assets/colab-badge.svg\" alt=\"Open In Colab\"/></a>"
      ]
    },
    {
      "cell_type": "markdown",
      "metadata": {
        "id": "eTmrnJgqGbqR"
      },
      "source": [
        "# 🧠 Conversor 2D para 3D SBS com MiDaS e Gradio\n",
        "\n",
        "Este notebook usa IA (modelo MiDaS da Meta) para converter vídeos 2D em vídeos 3D Side-by-Side (SBS)."
      ]
    },
    {
      "cell_type": "code",
      "execution_count": null,
      "metadata": {
        "id": "2861e3e4",
        "cellView": "form"
      },
      "outputs": [],
      "source": [
        "#@title ⚙️  Install Miniconda\n",
        "!wget https://repo.anaconda.com/miniconda/Miniconda3-latest-Linux-x86_64.sh\n",
        "!bash Miniconda3-latest-Linux-x86_64.sh -b -u -p /usr/local\n",
        "import sys\n",
        "sys.path.append('/usr/local/lib/python3.10/site-packages') # Adjust Python version if needed"
      ]
    },
    {
      "cell_type": "code",
      "execution_count": null,
      "metadata": {
        "id": "JRBRfTeBGbqU",
        "cellView": "form"
      },
      "outputs": [],
      "source": [
        "#@title ⚙️ Instalar dependências\n",
        "!apt -y install ffmpeg\n",
        "!pip install gradio opencv-python matplotlib torch torchvision torchaudio --quiet\n",
        "!git clone https://github.com/isl-org/MiDaS.git\n",
        "%cd MiDaS\n",
        "!conda env create -f environment.yaml\n",
        "!conda init --all\n",
        "!conda activate midas-py310"
      ]
    },
    {
      "cell_type": "code",
      "execution_count": null,
      "metadata": {
        "id": "I8W5RH6PGbqV",
        "cellView": "form"
      },
      "outputs": [],
      "source": [
        "#@title 🎞️ Processa\n",
        "import torch\n",
        "import cv2\n",
        "import numpy as np\n",
        "import shutil\n",
        "import gradio as gr\n",
        "import uuid\n",
        "import os\n",
        "from pathlib import Path\n",
        "\n",
        "# Dispositivo (GPU ou CPU)\n",
        "device = torch.device(\"cuda\" if torch.cuda.is_available() else \"cpu\")\n",
        "\n",
        "# Carregar modelo MiDaS e transformações\n",
        "midas = torch.hub.load(\"intel-isl/MiDaS\", \"DPT_Large\")\n",
        "midas.to(device).eval()\n",
        "\n",
        "midas_transforms = torch.hub.load(\"intel-isl/MiDaS\", \"transforms\")\n",
        "transform = midas_transforms.dpt_transform\n",
        "\n",
        "def generate_3d_image(image, depth_map, shift=8):\n",
        "    depth = cv2.normalize(depth_map, None, 0, 1, cv2.NORM_MINMAX)\n",
        "    depth = cv2.GaussianBlur(depth, (5, 5), 0)\n",
        "\n",
        "    h, w = depth.shape\n",
        "    left = np.zeros_like(image)\n",
        "    right = np.zeros_like(image)\n",
        "\n",
        "    for y in range(h):\n",
        "        for x in range(w):\n",
        "            offset = int((depth[y, x] - 0.5) * 2 * shift)\n",
        "            if 0 <= x - offset < w:\n",
        "                left[y, x] = image[y, x - offset]\n",
        "            if 0 <= x + offset < w:\n",
        "                right[y, x] = image[y, x + offset]\n",
        "\n",
        "    return np.hstack((left, right))\n",
        "\n",
        "def convert_video_to_3d_sbs(video_path):\n",
        "    tmp_id = str(uuid.uuid4())\n",
        "    os.makedirs(\"frames\", exist_ok=True)\n",
        "    os.makedirs(\"sbs_frames\", exist_ok=True)\n",
        "    os.makedirs(\"output\", exist_ok=True)\n",
        "\n",
        "    os.system(f\"ffmpeg -i {video_path} -qscale:v 2 frames/frame_%05d.png\")\n",
        "\n",
        "    for filename in sorted(os.listdir(\"frames\")):\n",
        "      frame = cv2.imread(f\"frames/{filename}\")\n",
        "      if frame is None:\n",
        "          print(f\"Error loading frame: frames/{filename}\")\n",
        "          continue\n",
        "\n",
        "      img_input = cv2.cvtColor(frame, cv2.COLOR_BGR2RGB)\n",
        "\n",
        "      # Ensure image is in the correct format (H, W, C) before transforming\n",
        "      if img_input.ndim == 3:\n",
        "          input_tensor = transform(img_input).to(device)\n",
        "          print(f\"Shape of input_tensor before model: {input_tensor.shape}\") # Add print for debugging\n",
        "      else:\n",
        "          print(f\"Skipping frame {filename} due to incorrect dimensions: {img_input.shape}\")\n",
        "          continue\n",
        "\n",
        "\n",
        "      with torch.no_grad():\n",
        "          prediction = midas(input_tensor)\n",
        "          prediction = torch.nn.functional.interpolate(\n",
        "              prediction.unsqueeze(1),\n",
        "              size=frame.shape[:2],\n",
        "              mode=\"bicubic\",\n",
        "              align_corners=False,\n",
        "          ).squeeze()\n",
        "\n",
        "      depth_map = prediction.cpu().numpy()\n",
        "      sbs = generate_3d_image(frame, depth_map, shift=8)\n",
        "      cv2.imwrite(f\"sbs_frames/{filename}\", sbs)\n",
        "\n",
        "    output_file = f\"output/{tmp_id}_3d_sbs.mp4\"\n",
        "    os.system(f\"ffmpeg -framerate 24 -i sbs_frames/frame_%05d.png -c:v libx264 -pix_fmt yuv420p {output_file}\")\n",
        "\n",
        "    shutil.rmtree(\"frames\")\n",
        "    shutil.rmtree(\"sbs_frames\")\n",
        "\n",
        "    return output_file\n",
        "\n",
        "def process_interface(video, progress=gr.Progress(track_tqdm=True)):\n",
        "    output_path = convert_video_to_3d_sbs(video)\n",
        "    return output_path\n",
        "\n",
        "gr.Interface(\n",
        "    fn=process_interface,\n",
        "    inputs=gr.Video(label=\"Vídeo 2D (.mp4)\"),\n",
        "    outputs=gr.Video(label=\"Resultado 3D SBS\"),\n",
        "    title=\"Conversor 2D para 3D com MiDaS\",\n",
        "    description=\"Envie um vídeo curto 2D para converter em 3D SBS com IA. Ideal para testes com VR.\"\n",
        ").launch(share=True, debug=True)"
      ]
    }
  ],
  "metadata": {
    "accelerator": "GPU",
    "colab": {
      "gpuType": "T4",
      "provenance": [],
      "include_colab_link": true
    },
    "kernelspec": {
      "display_name": "Python 3",
      "name": "python3"
    },
    "language_info": {
      "name": "python",
      "version": ""
    }
  },
  "nbformat": 4,
  "nbformat_minor": 0
}