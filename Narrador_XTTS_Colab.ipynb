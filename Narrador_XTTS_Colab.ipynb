{
  "cells": [
    {
      "cell_type": "markdown",
      "metadata": {
        "id": "view-in-github",
        "colab_type": "text"
      },
      "source": [
        "<a href=\"https://colab.research.google.com/github/gleidsonnunes/scripts/blob/master/Narrador_XTTS_Colab.ipynb\" target=\"_parent\"><img src=\"https://colab.research.google.com/assets/colab-badge.svg\" alt=\"Open In Colab\"/></a>"
      ]
    },
    {
      "cell_type": "code",
      "execution_count": null,
      "id": "7ee81a3e",
      "metadata": {
        "id": "7ee81a3e",
        "cellView": "form"
      },
      "outputs": [],
      "source": [
        "#@title Instalar dependencias\n",
        "# Resetar tudo\n",
        "!pip uninstall -y torch torchaudio torchvision transformers TTS\n",
        "!pip cache purge\n",
        "\n",
        "# Instalar Torch CPU-only (sem dependência de Triton)\n",
        "!pip install torch==2.1.2 torchaudio==2.1.2 torchvision>=0.11 --index-url https://download.pytorch.org/whl/cpu\n",
        "\n",
        "# Instalar versão estável da TTS que usa XTTS\n",
        "!pip install TTS==0.21.1\n",
        "\n",
        "# (opcional) instalar transformers caso necessário para outras tarefas\n",
        "!pip install transformers==4.36.2\n",
        "\n",
        "!pip install gradio pymupdf ebooklib pydub bs4\n",
        "\n",
        "!apt-get update && apt-get install -y ffmpeg"
      ]
    },
    {
      "cell_type": "code",
      "execution_count": null,
      "id": "1b3e9fac",
      "metadata": {
        "id": "1b3e9fac",
        "cellView": "form"
      },
      "outputs": [],
      "source": [
        "#@title Enviar Voz\n",
        "from google.colab import files\n",
        "uploaded = files.upload()\n",
        "import shutil\n",
        "for name in uploaded:\n",
        "    if name.endswith(\".mp3\") or name.endswith(\".wav\"):\n",
        "        shutil.move(name, \"voz_clonada_sample.wav\")"
      ]
    },
    {
      "cell_type": "code",
      "execution_count": null,
      "id": "d10da9c2",
      "metadata": {
        "id": "d10da9c2",
        "cellView": "form"
      },
      "outputs": [],
      "source": [
        "#@title Interface\n",
        "import gradio as gr\n",
        "from TTS.api import TTS\n",
        "import fitz  # PyMuPDF\n",
        "from ebooklib import epub\n",
        "from bs4 import BeautifulSoup\n",
        "import os\n",
        "from pydub import AudioSegment\n",
        "import torch # Import torch\n",
        "from ebooklib import ITEM_DOCUMENT\n",
        "\n",
        "os.makedirs(\"audios\", exist_ok=True)\n",
        "\n",
        "SPEAKER_WAV = \"voz_clonada_sample.wav\"\n",
        "OUTPUT_DIR = \"audios\"\n",
        "\n",
        "# Aceita os termos automaticamente (Coqui)\n",
        "os.environ[\"COQUI_TOS_AGREED\"] = \"1\"\n",
        "\n",
        "# Allowlist XttsConfig and XttsAudioConfig for torch.load\n",
        "from TTS.tts.configs.xtts_config import XttsConfig\n",
        "from TTS.tts.models.xtts import XttsArgs\n",
        "from TTS.config.shared_configs import BaseDatasetConfig\n",
        "from TTS.tts.models.xtts import XttsAudioConfig\n",
        "# torch.serialization.add_safe_globals([XttsConfig, XttsAudioConfig, BaseDatasetConfig, XttsArgs])\n",
        "\n",
        "\n",
        "tts = TTS(model_name=\"tts_models/multilingual/multi-dataset/xtts_v2\", progress_bar=True, gpu=False)\n",
        "\n",
        "emotions = [\"neutral\", \"happy\", \"sad\", \"angry\", \"excited\", \"sleepy\", \"whispering\", \"shouting\"]\n",
        "\n",
        "def extract_text(file):\n",
        "    ext = os.path.splitext(file.name)[-1].lower()\n",
        "    text = \"\"\n",
        "    if ext == \".pdf\":\n",
        "        doc = fitz.open(file.name)\n",
        "        for page in doc:\n",
        "            text += page.get_text()\n",
        "    elif ext == \".epub\":\n",
        "        book = epub.read_epub(file.name)\n",
        "        for item in book.get_items():\n",
        "          if item.get_type() == ITEM_DOCUMENT:\n",
        "              soup = BeautifulSoup(item.get_content(), \"html.parser\")\n",
        "              text += soup.get_text() + \"\\n\\n\"\n",
        "    return text.strip()\n",
        "\n",
        "def narrar(texto, emocao, progress=gr.Progress(track_tqdm=True)):\n",
        "    if not texto:  # Check if text is empty\n",
        "        return None, None  # Return None for both outputs if text is empty\n",
        "\n",
        "    wav_path = os.path.join(OUTPUT_DIR, \"narracao.wav\")\n",
        "    mp3_path = os.path.join(OUTPUT_DIR, \"narracao.mp3\")\n",
        "\n",
        "    tts.tts_to_file(\n",
        "        text=texto,\n",
        "        speaker_wav=SPEAKER_WAV,\n",
        "        language=\"pt\",\n",
        "        emotion=emocao,  # Include emotion\n",
        "        file_path=wav_path\n",
        "    )\n",
        "\n",
        "    audio = AudioSegment.from_wav(wav_path)\n",
        "    audio.export(mp3_path, format=\"mp3\")\n",
        "\n",
        "    return wav_path, mp3_path\n",
        "\n",
        "with gr.Blocks() as demo:\n",
        "    gr.Markdown(\"## Narrador XTTS com sua voz preferida 🎤\")\n",
        "\n",
        "    with gr.Row():\n",
        "        arquivo = gr.File(label=\"Carregar PDF ou EPUB\", file_types=[\".pdf\", \".epub\"])\n",
        "        emocao = gr.Dropdown(emotions, label=\"Emoção\", value=\"neutral\")\n",
        "\n",
        "    texto_extraido = gr.Textbox(label=\"Texto extraído\", lines=10)\n",
        "    carregar_btn = gr.Button(\"Extrair texto\")\n",
        "\n",
        "    carregar_btn.click(fn=extract_text, inputs=arquivo, outputs=texto_extraido)\n",
        "\n",
        "    with gr.Row():\n",
        "        narrar_btn = gr.Button(\"Narrar\")\n",
        "        audio_saida = gr.Audio(label=\"Ouvir áudio\")\n",
        "        download_mp3 = gr.File(label=\"Baixar em MP3\")\n",
        "\n",
        "    narrar_btn.click(fn=narrar, inputs=[texto_extraido, emocao], outputs=[audio_saida, download_mp3])\n",
        "\n",
        "demo.launch(share=True, debug=True)"
      ]
    }
  ],
  "metadata": {
    "colab": {
      "provenance": [],
      "include_colab_link": true
    },
    "kernelspec": {
      "display_name": "Python 3",
      "name": "python3"
    },
    "language_info": {
      "name": "python"
    }
  },
  "nbformat": 4,
  "nbformat_minor": 5
}